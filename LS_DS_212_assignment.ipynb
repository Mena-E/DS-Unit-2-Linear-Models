{
  "nbformat": 4,
  "nbformat_minor": 0,
  "metadata": {
    "kernelspec": {
      "display_name": "Python 3",
      "language": "python",
      "name": "python3"
    },
    "language_info": {
      "codemirror_mode": {
        "name": "ipython",
        "version": 3
      },
      "file_extension": ".py",
      "mimetype": "text/x-python",
      "name": "python",
      "nbconvert_exporter": "python",
      "pygments_lexer": "ipython3",
      "version": "3.7.3"
    },
    "colab": {
      "name": "LS_DS_212_assignment.ipynb",
      "provenance": [],
      "collapsed_sections": [],
      "include_colab_link": true
    }
  },
  "cells": [
    {
      "cell_type": "markdown",
      "metadata": {
        "id": "view-in-github",
        "colab_type": "text"
      },
      "source": [
        "<a href=\"https://colab.research.google.com/github/Mena-E/DS-Unit-2-Linear-Models/blob/master/LS_DS_212_assignment.ipynb\" target=\"_parent\"><img src=\"https://colab.research.google.com/assets/colab-badge.svg\" alt=\"Open In Colab\"/></a>"
      ]
    },
    {
      "cell_type": "markdown",
      "metadata": {
        "id": "NJxuCi70gvva"
      },
      "source": [
        "Lambda School Data Science\n",
        "\n",
        "*Unit 2, Sprint 1, Module 2*\n",
        "\n",
        "---"
      ]
    },
    {
      "cell_type": "markdown",
      "metadata": {
        "id": "7IXUfiQ2UKj6"
      },
      "source": [
        "# Regression 2\n",
        "\n",
        "## Assignment\n",
        "\n",
        "You'll continue to **predict how much it costs to rent an apartment in NYC,** using the dataset from renthop.com.\n",
        "\n",
        "- [ ] Do train/test split. Use data from April & May 2016 to train. Use data from June 2016 to test.\n",
        "- [ ] Engineer at least two new features. (See below for explanation & ideas.)\n",
        "- [ ] Fit a linear regression model with at least two features.\n",
        "- [ ] Get the model's coefficients and intercept.\n",
        "- [ ] Get regression metrics RMSE, MAE, and $R^2$, for both the train and test data.\n",
        "- [ ] What's the best test MAE you can get? Share your score and features used with your cohort on Slack!\n",
        "- [ ] As always, commit your notebook to your fork of the GitHub repo.\n",
        "\n",
        "\n",
        "#### [Feature Engineering](https://en.wikipedia.org/wiki/Feature_engineering)\n",
        "\n",
        "> \"Some machine learning projects succeed and some fail. What makes the difference? Easily the most important factor is the features used.\" — Pedro Domingos, [\"A Few Useful Things to Know about Machine Learning\"](https://homes.cs.washington.edu/~pedrod/papers/cacm12.pdf)\n",
        "\n",
        "> \"Coming up with features is difficult, time-consuming, requires expert knowledge. 'Applied machine learning' is basically feature engineering.\" — Andrew Ng, [Machine Learning and AI via Brain simulations](https://forum.stanford.edu/events/2011/2011slides/plenary/2011plenaryNg.pdf) \n",
        "\n",
        "> Feature engineering is the process of using domain knowledge of the data to create features that make machine learning algorithms work. \n",
        "\n",
        "#### Feature Ideas\n",
        "- Does the apartment have a description?\n",
        "- How long is the description?\n",
        "- How many total perks does each apartment have?\n",
        "- Are cats _or_ dogs allowed?\n",
        "- Are cats _and_ dogs allowed?\n",
        "- Total number of rooms (beds + baths)\n",
        "- Ratio of beds to baths\n",
        "- What's the neighborhood, based on address or latitude & longitude?\n",
        "\n",
        "## Stretch Goals\n",
        "- [ ] If you want more math, skim [_An Introduction to Statistical Learning_](http://faculty.marshall.usc.edu/gareth-james/ISL/ISLR%20Seventh%20Printing.pdf),  Chapter 3.1, Simple Linear Regression, & Chapter 3.2, Multiple Linear Regression\n",
        "- [ ] If you want more introduction, watch [Brandon Foltz, Statistics 101: Simple Linear Regression](https://www.youtube.com/watch?v=ZkjP5RJLQF4)\n",
        "(20 minutes, over 1 million views)\n",
        "- [ ] Add your own stretch goal(s) !"
      ]
    },
    {
      "cell_type": "code",
      "metadata": {
        "id": "o9eSnDYhUGD7"
      },
      "source": [
        "%%capture\n",
        "import sys\n",
        "\n",
        "# If you're on Colab:\n",
        "if 'google.colab' in sys.modules:\n",
        "    DATA_PATH = 'https://raw.githubusercontent.com/LambdaSchool/DS-Unit-2-Applied-Modeling/master/data/'\n",
        "    !pip install category_encoders==2.*\n",
        "\n",
        "# If you're working locally:\n",
        "else:\n",
        "    DATA_PATH = '../data/'\n",
        "    \n",
        "# Ignore this Numpy warning when using Plotly Express:\n",
        "# FutureWarning: Method .ptp is deprecated and will be removed in a future version. Use numpy.ptp instead.\n",
        "import warnings\n",
        "warnings.filterwarnings(action='ignore', category=FutureWarning, module='numpy')"
      ],
      "execution_count": null,
      "outputs": []
    },
    {
      "cell_type": "code",
      "metadata": {
        "id": "cvrw-T3bZOuW"
      },
      "source": [
        "import numpy as np\n",
        "import pandas as pd\n",
        "\n",
        "# Read New York City apartment rental listing data\n",
        "df = pd.read_csv(DATA_PATH+'apartments/renthop-nyc.csv', parse_dates=['created'], index_col='created')\n",
        "#assert df.shape == (49352, 34)\n",
        "\n",
        "# Remove the most extreme 1% prices,\n",
        "# the most extreme .1% latitudes, &\n",
        "# the most extreme .1% longitudes\n",
        "df = df[(df['price'] >= np.percentile(df['price'], 0.5)) & \n",
        "        (df['price'] <= np.percentile(df['price'], 99.5)) & \n",
        "        (df['latitude'] >= np.percentile(df['latitude'], 0.05)) & \n",
        "        (df['latitude'] < np.percentile(df['latitude'], 99.95)) &\n",
        "        (df['longitude'] >= np.percentile(df['longitude'], 0.05)) & \n",
        "        (df['longitude'] <= np.percentile(df['longitude'], 99.95))]"
      ],
      "execution_count": null,
      "outputs": []
    },
    {
      "cell_type": "code",
      "metadata": {
        "colab": {
          "base_uri": "https://localhost:8080/",
          "height": 296
        },
        "id": "9-9Mk1GOii_j",
        "outputId": "0244fddc-a524-424f-d27a-016b65477b2b"
      },
      "source": [
        "print(df.shape)\n",
        "df.head(2)"
      ],
      "execution_count": null,
      "outputs": [
        {
          "output_type": "stream",
          "text": [
            "(48817, 33)\n"
          ],
          "name": "stdout"
        },
        {
          "output_type": "execute_result",
          "data": {
            "text/html": [
              "<div>\n",
              "<style scoped>\n",
              "    .dataframe tbody tr th:only-of-type {\n",
              "        vertical-align: middle;\n",
              "    }\n",
              "\n",
              "    .dataframe tbody tr th {\n",
              "        vertical-align: top;\n",
              "    }\n",
              "\n",
              "    .dataframe thead th {\n",
              "        text-align: right;\n",
              "    }\n",
              "</style>\n",
              "<table border=\"1\" class=\"dataframe\">\n",
              "  <thead>\n",
              "    <tr style=\"text-align: right;\">\n",
              "      <th></th>\n",
              "      <th>bathrooms</th>\n",
              "      <th>bedrooms</th>\n",
              "      <th>description</th>\n",
              "      <th>display_address</th>\n",
              "      <th>latitude</th>\n",
              "      <th>longitude</th>\n",
              "      <th>price</th>\n",
              "      <th>street_address</th>\n",
              "      <th>interest_level</th>\n",
              "      <th>elevator</th>\n",
              "      <th>cats_allowed</th>\n",
              "      <th>hardwood_floors</th>\n",
              "      <th>dogs_allowed</th>\n",
              "      <th>doorman</th>\n",
              "      <th>dishwasher</th>\n",
              "      <th>no_fee</th>\n",
              "      <th>laundry_in_building</th>\n",
              "      <th>fitness_center</th>\n",
              "      <th>pre-war</th>\n",
              "      <th>laundry_in_unit</th>\n",
              "      <th>roof_deck</th>\n",
              "      <th>outdoor_space</th>\n",
              "      <th>dining_room</th>\n",
              "      <th>high_speed_internet</th>\n",
              "      <th>balcony</th>\n",
              "      <th>swimming_pool</th>\n",
              "      <th>new_construction</th>\n",
              "      <th>terrace</th>\n",
              "      <th>exclusive</th>\n",
              "      <th>loft</th>\n",
              "      <th>garden_patio</th>\n",
              "      <th>wheelchair_access</th>\n",
              "      <th>common_outdoor_space</th>\n",
              "    </tr>\n",
              "    <tr>\n",
              "      <th>created</th>\n",
              "      <th></th>\n",
              "      <th></th>\n",
              "      <th></th>\n",
              "      <th></th>\n",
              "      <th></th>\n",
              "      <th></th>\n",
              "      <th></th>\n",
              "      <th></th>\n",
              "      <th></th>\n",
              "      <th></th>\n",
              "      <th></th>\n",
              "      <th></th>\n",
              "      <th></th>\n",
              "      <th></th>\n",
              "      <th></th>\n",
              "      <th></th>\n",
              "      <th></th>\n",
              "      <th></th>\n",
              "      <th></th>\n",
              "      <th></th>\n",
              "      <th></th>\n",
              "      <th></th>\n",
              "      <th></th>\n",
              "      <th></th>\n",
              "      <th></th>\n",
              "      <th></th>\n",
              "      <th></th>\n",
              "      <th></th>\n",
              "      <th></th>\n",
              "      <th></th>\n",
              "      <th></th>\n",
              "      <th></th>\n",
              "      <th></th>\n",
              "    </tr>\n",
              "  </thead>\n",
              "  <tbody>\n",
              "    <tr>\n",
              "      <th>2016-06-24 07:54:24</th>\n",
              "      <td>1.5</td>\n",
              "      <td>3</td>\n",
              "      <td>A Brand New 3 Bedroom 1.5 bath ApartmentEnjoy ...</td>\n",
              "      <td>Metropolitan Avenue</td>\n",
              "      <td>40.7145</td>\n",
              "      <td>-73.9425</td>\n",
              "      <td>3000</td>\n",
              "      <td>792 Metropolitan Avenue</td>\n",
              "      <td>medium</td>\n",
              "      <td>0</td>\n",
              "      <td>0</td>\n",
              "      <td>0</td>\n",
              "      <td>0</td>\n",
              "      <td>0</td>\n",
              "      <td>0</td>\n",
              "      <td>0</td>\n",
              "      <td>0</td>\n",
              "      <td>0</td>\n",
              "      <td>0</td>\n",
              "      <td>0</td>\n",
              "      <td>0</td>\n",
              "      <td>0</td>\n",
              "      <td>0</td>\n",
              "      <td>0</td>\n",
              "      <td>0</td>\n",
              "      <td>0</td>\n",
              "      <td>0</td>\n",
              "      <td>0</td>\n",
              "      <td>0</td>\n",
              "      <td>0</td>\n",
              "      <td>0</td>\n",
              "      <td>0</td>\n",
              "      <td>0</td>\n",
              "    </tr>\n",
              "    <tr>\n",
              "      <th>2016-06-12 12:19:27</th>\n",
              "      <td>1.0</td>\n",
              "      <td>2</td>\n",
              "      <td></td>\n",
              "      <td>Columbus Avenue</td>\n",
              "      <td>40.7947</td>\n",
              "      <td>-73.9667</td>\n",
              "      <td>5465</td>\n",
              "      <td>808 Columbus Avenue</td>\n",
              "      <td>low</td>\n",
              "      <td>1</td>\n",
              "      <td>1</td>\n",
              "      <td>0</td>\n",
              "      <td>1</td>\n",
              "      <td>1</td>\n",
              "      <td>0</td>\n",
              "      <td>0</td>\n",
              "      <td>0</td>\n",
              "      <td>1</td>\n",
              "      <td>0</td>\n",
              "      <td>0</td>\n",
              "      <td>0</td>\n",
              "      <td>0</td>\n",
              "      <td>0</td>\n",
              "      <td>0</td>\n",
              "      <td>0</td>\n",
              "      <td>0</td>\n",
              "      <td>0</td>\n",
              "      <td>0</td>\n",
              "      <td>0</td>\n",
              "      <td>0</td>\n",
              "      <td>0</td>\n",
              "      <td>0</td>\n",
              "      <td>0</td>\n",
              "    </tr>\n",
              "  </tbody>\n",
              "</table>\n",
              "</div>"
            ],
            "text/plain": [
              "                     bathrooms  ...  common_outdoor_space\n",
              "created                         ...                      \n",
              "2016-06-24 07:54:24        1.5  ...                     0\n",
              "2016-06-12 12:19:27        1.0  ...                     0\n",
              "\n",
              "[2 rows x 33 columns]"
            ]
          },
          "metadata": {
            "tags": []
          },
          "execution_count": 214
        }
      ]
    },
    {
      "cell_type": "code",
      "metadata": {
        "colab": {
          "base_uri": "https://localhost:8080/",
          "height": 168
        },
        "id": "dTTMkSKQi_9W",
        "outputId": "92ec6ffe-36d0-46cb-b64c-8a0fe3d6bc3d"
      },
      "source": [
        "# Check the categorical variables\n",
        "df.describe(exclude='number')"
      ],
      "execution_count": null,
      "outputs": [
        {
          "output_type": "execute_result",
          "data": {
            "text/html": [
              "<div>\n",
              "<style scoped>\n",
              "    .dataframe tbody tr th:only-of-type {\n",
              "        vertical-align: middle;\n",
              "    }\n",
              "\n",
              "    .dataframe tbody tr th {\n",
              "        vertical-align: top;\n",
              "    }\n",
              "\n",
              "    .dataframe thead th {\n",
              "        text-align: right;\n",
              "    }\n",
              "</style>\n",
              "<table border=\"1\" class=\"dataframe\">\n",
              "  <thead>\n",
              "    <tr style=\"text-align: right;\">\n",
              "      <th></th>\n",
              "      <th>description</th>\n",
              "      <th>display_address</th>\n",
              "      <th>street_address</th>\n",
              "      <th>interest_level</th>\n",
              "    </tr>\n",
              "  </thead>\n",
              "  <tbody>\n",
              "    <tr>\n",
              "      <th>count</th>\n",
              "      <td>47392</td>\n",
              "      <td>48684</td>\n",
              "      <td>48807</td>\n",
              "      <td>48817</td>\n",
              "    </tr>\n",
              "    <tr>\n",
              "      <th>unique</th>\n",
              "      <td>37853</td>\n",
              "      <td>8674</td>\n",
              "      <td>15135</td>\n",
              "      <td>3</td>\n",
              "    </tr>\n",
              "    <tr>\n",
              "      <th>top</th>\n",
              "      <td></td>\n",
              "      <td>Broadway</td>\n",
              "      <td>3333 Broadway</td>\n",
              "      <td>low</td>\n",
              "    </tr>\n",
              "    <tr>\n",
              "      <th>freq</th>\n",
              "      <td>1627</td>\n",
              "      <td>435</td>\n",
              "      <td>174</td>\n",
              "      <td>33946</td>\n",
              "    </tr>\n",
              "  </tbody>\n",
              "</table>\n",
              "</div>"
            ],
            "text/plain": [
              "       description display_address street_address interest_level\n",
              "count        47392           48684          48807          48817\n",
              "unique       37853            8674          15135              3\n",
              "top                       Broadway  3333 Broadway            low\n",
              "freq          1627             435            174          33946"
            ]
          },
          "metadata": {
            "tags": []
          },
          "execution_count": 215
        }
      ]
    },
    {
      "cell_type": "code",
      "metadata": {
        "colab": {
          "base_uri": "https://localhost:8080/"
        },
        "id": "WFMddsx9D_86",
        "outputId": "4a3e5f0e-b6ab-4269-d42d-d0af6b850c22"
      },
      "source": [
        "# Drop the high cardinality variables from the datafram\n",
        "df.drop(columns=['description', 'display_address',\t'street_address'], inplace=True)\n",
        "df.shape # Number of clumns should now go from 33 to 30"
      ],
      "execution_count": null,
      "outputs": [
        {
          "output_type": "execute_result",
          "data": {
            "text/plain": [
              "(48817, 30)"
            ]
          },
          "metadata": {
            "tags": []
          },
          "execution_count": 216
        }
      ]
    },
    {
      "cell_type": "code",
      "metadata": {
        "colab": {
          "base_uri": "https://localhost:8080/",
          "height": 455
        },
        "id": "2nRHfe2pEm2p",
        "outputId": "74aac9e2-12d2-40d3-e367-7bad70490e18"
      },
      "source": [
        "# Make dummies of the interest_level variable, and get k-1 columns of dummies from k columns\n",
        "# Concatenate the dummy dataframe with the main dataframe\n",
        "dummy = pd.get_dummies(df['interest_level'], prefix='interest', prefix_sep='_', drop_first=True)\n",
        "df = pd.concat([df, dummy], axis = 1)\n",
        "print(df.shape) # There should now be 32 total columns in the dataframe\n",
        "df.head()"
      ],
      "execution_count": null,
      "outputs": [
        {
          "output_type": "stream",
          "text": [
            "(48817, 32)\n"
          ],
          "name": "stdout"
        },
        {
          "output_type": "execute_result",
          "data": {
            "text/html": [
              "<div>\n",
              "<style scoped>\n",
              "    .dataframe tbody tr th:only-of-type {\n",
              "        vertical-align: middle;\n",
              "    }\n",
              "\n",
              "    .dataframe tbody tr th {\n",
              "        vertical-align: top;\n",
              "    }\n",
              "\n",
              "    .dataframe thead th {\n",
              "        text-align: right;\n",
              "    }\n",
              "</style>\n",
              "<table border=\"1\" class=\"dataframe\">\n",
              "  <thead>\n",
              "    <tr style=\"text-align: right;\">\n",
              "      <th></th>\n",
              "      <th>bathrooms</th>\n",
              "      <th>bedrooms</th>\n",
              "      <th>latitude</th>\n",
              "      <th>longitude</th>\n",
              "      <th>price</th>\n",
              "      <th>interest_level</th>\n",
              "      <th>elevator</th>\n",
              "      <th>cats_allowed</th>\n",
              "      <th>hardwood_floors</th>\n",
              "      <th>dogs_allowed</th>\n",
              "      <th>doorman</th>\n",
              "      <th>dishwasher</th>\n",
              "      <th>no_fee</th>\n",
              "      <th>laundry_in_building</th>\n",
              "      <th>fitness_center</th>\n",
              "      <th>pre-war</th>\n",
              "      <th>laundry_in_unit</th>\n",
              "      <th>roof_deck</th>\n",
              "      <th>outdoor_space</th>\n",
              "      <th>dining_room</th>\n",
              "      <th>high_speed_internet</th>\n",
              "      <th>balcony</th>\n",
              "      <th>swimming_pool</th>\n",
              "      <th>new_construction</th>\n",
              "      <th>terrace</th>\n",
              "      <th>exclusive</th>\n",
              "      <th>loft</th>\n",
              "      <th>garden_patio</th>\n",
              "      <th>wheelchair_access</th>\n",
              "      <th>common_outdoor_space</th>\n",
              "      <th>interest_low</th>\n",
              "      <th>interest_medium</th>\n",
              "    </tr>\n",
              "    <tr>\n",
              "      <th>created</th>\n",
              "      <th></th>\n",
              "      <th></th>\n",
              "      <th></th>\n",
              "      <th></th>\n",
              "      <th></th>\n",
              "      <th></th>\n",
              "      <th></th>\n",
              "      <th></th>\n",
              "      <th></th>\n",
              "      <th></th>\n",
              "      <th></th>\n",
              "      <th></th>\n",
              "      <th></th>\n",
              "      <th></th>\n",
              "      <th></th>\n",
              "      <th></th>\n",
              "      <th></th>\n",
              "      <th></th>\n",
              "      <th></th>\n",
              "      <th></th>\n",
              "      <th></th>\n",
              "      <th></th>\n",
              "      <th></th>\n",
              "      <th></th>\n",
              "      <th></th>\n",
              "      <th></th>\n",
              "      <th></th>\n",
              "      <th></th>\n",
              "      <th></th>\n",
              "      <th></th>\n",
              "      <th></th>\n",
              "      <th></th>\n",
              "    </tr>\n",
              "  </thead>\n",
              "  <tbody>\n",
              "    <tr>\n",
              "      <th>2016-06-24 07:54:24</th>\n",
              "      <td>1.5</td>\n",
              "      <td>3</td>\n",
              "      <td>40.7145</td>\n",
              "      <td>-73.9425</td>\n",
              "      <td>3000</td>\n",
              "      <td>medium</td>\n",
              "      <td>0</td>\n",
              "      <td>0</td>\n",
              "      <td>0</td>\n",
              "      <td>0</td>\n",
              "      <td>0</td>\n",
              "      <td>0</td>\n",
              "      <td>0</td>\n",
              "      <td>0</td>\n",
              "      <td>0</td>\n",
              "      <td>0</td>\n",
              "      <td>0</td>\n",
              "      <td>0</td>\n",
              "      <td>0</td>\n",
              "      <td>0</td>\n",
              "      <td>0</td>\n",
              "      <td>0</td>\n",
              "      <td>0</td>\n",
              "      <td>0</td>\n",
              "      <td>0</td>\n",
              "      <td>0</td>\n",
              "      <td>0</td>\n",
              "      <td>0</td>\n",
              "      <td>0</td>\n",
              "      <td>0</td>\n",
              "      <td>0</td>\n",
              "      <td>1</td>\n",
              "    </tr>\n",
              "    <tr>\n",
              "      <th>2016-06-12 12:19:27</th>\n",
              "      <td>1.0</td>\n",
              "      <td>2</td>\n",
              "      <td>40.7947</td>\n",
              "      <td>-73.9667</td>\n",
              "      <td>5465</td>\n",
              "      <td>low</td>\n",
              "      <td>1</td>\n",
              "      <td>1</td>\n",
              "      <td>0</td>\n",
              "      <td>1</td>\n",
              "      <td>1</td>\n",
              "      <td>0</td>\n",
              "      <td>0</td>\n",
              "      <td>0</td>\n",
              "      <td>1</td>\n",
              "      <td>0</td>\n",
              "      <td>0</td>\n",
              "      <td>0</td>\n",
              "      <td>0</td>\n",
              "      <td>0</td>\n",
              "      <td>0</td>\n",
              "      <td>0</td>\n",
              "      <td>0</td>\n",
              "      <td>0</td>\n",
              "      <td>0</td>\n",
              "      <td>0</td>\n",
              "      <td>0</td>\n",
              "      <td>0</td>\n",
              "      <td>0</td>\n",
              "      <td>0</td>\n",
              "      <td>1</td>\n",
              "      <td>0</td>\n",
              "    </tr>\n",
              "    <tr>\n",
              "      <th>2016-04-17 03:26:41</th>\n",
              "      <td>1.0</td>\n",
              "      <td>1</td>\n",
              "      <td>40.7388</td>\n",
              "      <td>-74.0018</td>\n",
              "      <td>2850</td>\n",
              "      <td>high</td>\n",
              "      <td>0</td>\n",
              "      <td>0</td>\n",
              "      <td>1</td>\n",
              "      <td>0</td>\n",
              "      <td>0</td>\n",
              "      <td>1</td>\n",
              "      <td>0</td>\n",
              "      <td>1</td>\n",
              "      <td>0</td>\n",
              "      <td>0</td>\n",
              "      <td>0</td>\n",
              "      <td>0</td>\n",
              "      <td>0</td>\n",
              "      <td>0</td>\n",
              "      <td>0</td>\n",
              "      <td>0</td>\n",
              "      <td>0</td>\n",
              "      <td>0</td>\n",
              "      <td>0</td>\n",
              "      <td>0</td>\n",
              "      <td>0</td>\n",
              "      <td>0</td>\n",
              "      <td>0</td>\n",
              "      <td>0</td>\n",
              "      <td>0</td>\n",
              "      <td>0</td>\n",
              "    </tr>\n",
              "    <tr>\n",
              "      <th>2016-04-18 02:22:02</th>\n",
              "      <td>1.0</td>\n",
              "      <td>1</td>\n",
              "      <td>40.7539</td>\n",
              "      <td>-73.9677</td>\n",
              "      <td>3275</td>\n",
              "      <td>low</td>\n",
              "      <td>0</td>\n",
              "      <td>0</td>\n",
              "      <td>1</td>\n",
              "      <td>0</td>\n",
              "      <td>0</td>\n",
              "      <td>0</td>\n",
              "      <td>1</td>\n",
              "      <td>0</td>\n",
              "      <td>0</td>\n",
              "      <td>0</td>\n",
              "      <td>0</td>\n",
              "      <td>0</td>\n",
              "      <td>0</td>\n",
              "      <td>0</td>\n",
              "      <td>0</td>\n",
              "      <td>0</td>\n",
              "      <td>0</td>\n",
              "      <td>0</td>\n",
              "      <td>0</td>\n",
              "      <td>0</td>\n",
              "      <td>0</td>\n",
              "      <td>0</td>\n",
              "      <td>0</td>\n",
              "      <td>0</td>\n",
              "      <td>1</td>\n",
              "      <td>0</td>\n",
              "    </tr>\n",
              "    <tr>\n",
              "      <th>2016-04-28 01:32:41</th>\n",
              "      <td>1.0</td>\n",
              "      <td>4</td>\n",
              "      <td>40.8241</td>\n",
              "      <td>-73.9493</td>\n",
              "      <td>3350</td>\n",
              "      <td>low</td>\n",
              "      <td>0</td>\n",
              "      <td>0</td>\n",
              "      <td>0</td>\n",
              "      <td>0</td>\n",
              "      <td>0</td>\n",
              "      <td>0</td>\n",
              "      <td>0</td>\n",
              "      <td>0</td>\n",
              "      <td>0</td>\n",
              "      <td>1</td>\n",
              "      <td>0</td>\n",
              "      <td>0</td>\n",
              "      <td>0</td>\n",
              "      <td>0</td>\n",
              "      <td>0</td>\n",
              "      <td>0</td>\n",
              "      <td>0</td>\n",
              "      <td>0</td>\n",
              "      <td>0</td>\n",
              "      <td>0</td>\n",
              "      <td>0</td>\n",
              "      <td>0</td>\n",
              "      <td>0</td>\n",
              "      <td>0</td>\n",
              "      <td>1</td>\n",
              "      <td>0</td>\n",
              "    </tr>\n",
              "  </tbody>\n",
              "</table>\n",
              "</div>"
            ],
            "text/plain": [
              "                     bathrooms  bedrooms  ...  interest_low  interest_medium\n",
              "created                                   ...                               \n",
              "2016-06-24 07:54:24        1.5         3  ...             0                1\n",
              "2016-06-12 12:19:27        1.0         2  ...             1                0\n",
              "2016-04-17 03:26:41        1.0         1  ...             0                0\n",
              "2016-04-18 02:22:02        1.0         1  ...             1                0\n",
              "2016-04-28 01:32:41        1.0         4  ...             1                0\n",
              "\n",
              "[5 rows x 32 columns]"
            ]
          },
          "metadata": {
            "tags": []
          },
          "execution_count": 217
        }
      ]
    },
    {
      "cell_type": "markdown",
      "metadata": {
        "id": "S21ZyoO2JSxa"
      },
      "source": [
        "# Feature Engineering"
      ]
    },
    {
      "cell_type": "code",
      "metadata": {
        "colab": {
          "base_uri": "https://localhost:8080/"
        },
        "id": "mn0D40SHJpkr",
        "outputId": "4f7ae8b4-ff4e-4f58-fd3b-e51f6cee191b"
      },
      "source": [
        "df.columns"
      ],
      "execution_count": null,
      "outputs": [
        {
          "output_type": "execute_result",
          "data": {
            "text/plain": [
              "Index(['bathrooms', 'bedrooms', 'latitude', 'longitude', 'price',\n",
              "       'interest_level', 'elevator', 'cats_allowed', 'hardwood_floors',\n",
              "       'dogs_allowed', 'doorman', 'dishwasher', 'no_fee',\n",
              "       'laundry_in_building', 'fitness_center', 'pre-war', 'laundry_in_unit',\n",
              "       'roof_deck', 'outdoor_space', 'dining_room', 'high_speed_internet',\n",
              "       'balcony', 'swimming_pool', 'new_construction', 'terrace', 'exclusive',\n",
              "       'loft', 'garden_patio', 'wheelchair_access', 'common_outdoor_space',\n",
              "       'interest_low', 'interest_medium'],\n",
              "      dtype='object')"
            ]
          },
          "metadata": {
            "tags": []
          },
          "execution_count": 218
        }
      ]
    },
    {
      "cell_type": "code",
      "metadata": {
        "colab": {
          "base_uri": "https://localhost:8080/"
        },
        "id": "cfvE8J8oI00S",
        "outputId": "54cf5fa6-33e2-40a9-9b0f-91ec3540a9eb"
      },
      "source": [
        "# Create new feature num_perks which counts all the perks in an apartment\n",
        "perks = ['elevator', 'cats_allowed', 'hardwood_floors', 'dogs_allowed',\n",
        "         'doorman', 'dishwasher', 'no_fee', 'laundry_in_building',\n",
        "         'fitness_center', 'pre-war', 'laundry_in_unit', 'roof_deck',\n",
        "         'outdoor_space', 'dining_room', 'high_speed_internet', 'balcony',\n",
        "         'swimming_pool', 'new_construction', 'exclusive', 'terrace', \n",
        "         'loft', 'garden_patio', 'common_outdoor_space', \n",
        "         'wheelchair_access']\n",
        "\n",
        "# total rooms feature\n",
        "df['total_rooms'] = df['bathrooms'] + df['bedrooms']\n",
        "\n",
        "# feature for total number of perks\n",
        "df['num_perks'] = df[perks].sum(axis=1)\n",
        "\n",
        "# Create new feature for pets called pets_allowed\n",
        "\n",
        "df['pets_allowed'] = np.where((df['cats_allowed']==1)|(df['dogs_allowed']==1), 1,0)\n",
        "\n",
        "# Feature for all pets allowed\n",
        "df['all_pets_allowed'] = np.where((df['cats_allowed']==1)&(df['dogs_allowed']==1), 1,0)\n",
        "\n",
        "# Drop the interest_level column\n",
        "df.drop(columns=['interest_level'], inplace=True)\n",
        "\n",
        "print(df.shape) # Number of columns should now be 33\n",
        "df.columns"
      ],
      "execution_count": null,
      "outputs": [
        {
          "output_type": "stream",
          "text": [
            "(48817, 35)\n"
          ],
          "name": "stdout"
        },
        {
          "output_type": "execute_result",
          "data": {
            "text/plain": [
              "Index(['bathrooms', 'bedrooms', 'latitude', 'longitude', 'price', 'elevator',\n",
              "       'cats_allowed', 'hardwood_floors', 'dogs_allowed', 'doorman',\n",
              "       'dishwasher', 'no_fee', 'laundry_in_building', 'fitness_center',\n",
              "       'pre-war', 'laundry_in_unit', 'roof_deck', 'outdoor_space',\n",
              "       'dining_room', 'high_speed_internet', 'balcony', 'swimming_pool',\n",
              "       'new_construction', 'terrace', 'exclusive', 'loft', 'garden_patio',\n",
              "       'wheelchair_access', 'common_outdoor_space', 'interest_low',\n",
              "       'interest_medium', 'total_rooms', 'num_perks', 'pets_allowed',\n",
              "       'all_pets_allowed'],\n",
              "      dtype='object')"
            ]
          },
          "metadata": {
            "tags": []
          },
          "execution_count": 219
        }
      ]
    },
    {
      "cell_type": "markdown",
      "metadata": {
        "id": "F8ovZNHeNCfG"
      },
      "source": [
        "# Split the Data\n",
        "1. The training data will include all data from April and May\n",
        "2. The test data will include all June data"
      ]
    },
    {
      "cell_type": "code",
      "metadata": {
        "colab": {
          "base_uri": "https://localhost:8080/"
        },
        "id": "40oS-CGqNCJc",
        "outputId": "90c25af7-15f7-43be-aacc-94a0b43af8af"
      },
      "source": [
        "# Split on dataframe date index\n",
        "train = df[df.index < '2016-06-01']\n",
        "test = df[df.index >= '2016-06-01']\n",
        "train.shape, test.shape          "
      ],
      "execution_count": null,
      "outputs": [
        {
          "output_type": "execute_result",
          "data": {
            "text/plain": [
              "((31844, 35), (16973, 35))"
            ]
          },
          "metadata": {
            "tags": []
          },
          "execution_count": 220
        }
      ]
    },
    {
      "cell_type": "code",
      "metadata": {
        "id": "QcRW2LefPn7N"
      },
      "source": [
        "# Define target and feature\n",
        "target = 'price'\n",
        "features = df.columns.drop([target])"
      ],
      "execution_count": null,
      "outputs": []
    },
    {
      "cell_type": "code",
      "metadata": {
        "colab": {
          "base_uri": "https://localhost:8080/"
        },
        "id": "0xd0W6agRjtc",
        "outputId": "b2573ccf-88fc-43ff-a48c-d2fb36c9f6ad"
      },
      "source": [
        "# Create X and y training and testing dataframes\n",
        "X_train = train[features]\n",
        "y_train = train[target]\n",
        "\n",
        "X_test = test[features]\n",
        "y_test = test[target]\n",
        "\n",
        "print('X shapes (train, test): {} {}'.format(X_train.shape, X_test.shape))\n",
        "print('y shapes (train, test): {} {}'.format(y_train.shape, y_test.shape))"
      ],
      "execution_count": null,
      "outputs": [
        {
          "output_type": "stream",
          "text": [
            "X shapes (train, test): (31844, 34) (16973, 34)\n",
            "y shapes (train, test): (31844,) (16973,)\n"
          ],
          "name": "stdout"
        }
      ]
    },
    {
      "cell_type": "markdown",
      "metadata": {
        "id": "cNlwFoqMThOq"
      },
      "source": [
        "# Baseline"
      ]
    },
    {
      "cell_type": "code",
      "metadata": {
        "colab": {
          "base_uri": "https://localhost:8080/"
        },
        "id": "fmuoh9hXTfaQ",
        "outputId": "99e6e76e-7bbd-497f-b3c4-8355355a116d"
      },
      "source": [
        "# Mean rental price in NYC - Mean Baseline\n",
        "first_guess = train[target].mean()\n",
        "print(f'The average rental price in NYC from the data is ${first_guess:0.2f}')"
      ],
      "execution_count": null,
      "outputs": [
        {
          "output_type": "stream",
          "text": [
            "The average rental price in NYC from the data is $3575.60\n"
          ],
          "name": "stdout"
        }
      ]
    },
    {
      "cell_type": "code",
      "metadata": {
        "colab": {
          "base_uri": "https://localhost:8080/"
        },
        "id": "3mbVTFbaUtM1",
        "outputId": "6bf2d89f-5820-4ebf-930f-dae83231fd2d"
      },
      "source": [
        "# Baseline errors\n",
        "from sklearn.metrics import mean_absolute_error as mae, mean_squared_error as mse, r2_score\n",
        "\n",
        "y_pred = [first_guess] * len(y_train)\n",
        "\n",
        "def find_errors(test_on, data, pred):\n",
        "  \"\"\"\n",
        "  Function takes the following parameters:\n",
        "  test_on: A string, 'Baseline', 'Test' or 'Train'\n",
        "  data: Dataframe, could be training or testing\n",
        "  pred: target or outcome variable\n",
        "  Function returns model errors and R Squared value\n",
        "  \"\"\"\n",
        "  MAE = mae(data, pred)\n",
        "  MSE = mse(data, pred)\n",
        "  RMSE = np.sqrt(MSE)\n",
        "  r2 = r2_score(data, pred)\n",
        "  print(test_on + \" Errors: \")\n",
        "  print(\"----------------------\")\n",
        "  print(f'Mean Square Error: ${MSE:0.2f}')\n",
        "  print(f'Root Mean Square Error: ${RMSE:0.2f}')\n",
        "  print(f'Mean Absolute Error: ${MAE:0.2f}')\n",
        "  print(f'R Sqaured: {r2:0.2f}')\n",
        "\n",
        "find_errors('Baseline',y_train, y_pred)"
      ],
      "execution_count": null,
      "outputs": [
        {
          "output_type": "stream",
          "text": [
            "Baseline Errors: \n",
            "----------------------\n",
            "Mean Square Error: $3105028.22\n",
            "Root Mean Square Error: $1762.11\n",
            "Mean Absolute Error: $1201.88\n",
            "R Sqaured: 0.00\n"
          ],
          "name": "stdout"
        }
      ]
    },
    {
      "cell_type": "markdown",
      "metadata": {
        "id": "hvNPwYC0dQFo"
      },
      "source": [
        "#Build and Fit the Model"
      ]
    },
    {
      "cell_type": "code",
      "metadata": {
        "colab": {
          "base_uri": "https://localhost:8080/"
        },
        "id": "Mg7ohP2MbwQB",
        "outputId": "e6504f11-4b3b-4328-e564-5e82ce2e7de6"
      },
      "source": [
        "# Import Regression model\n",
        "from sklearn.linear_model import LinearRegression\n",
        "\n",
        "model = LinearRegression()\n",
        "\n",
        "# Rearrange X features - Start by using all the features\n",
        "X_train = train[features]\n",
        "X_test = test[features]\n",
        "\n",
        "model.fit(X_train, y_train)\n",
        "y_pred = model.predict(X_train)\n",
        "\n",
        "find_errors('Train', y_train, y_pred)"
      ],
      "execution_count": null,
      "outputs": [
        {
          "output_type": "stream",
          "text": [
            "Train Errors: \n",
            "----------------------\n",
            "Mean Square Error: $1125382.17\n",
            "Root Mean Square Error: $1060.84\n",
            "Mean Absolute Error: $673.10\n",
            "R Sqaured: 0.64\n"
          ],
          "name": "stdout"
        }
      ]
    },
    {
      "cell_type": "code",
      "metadata": {
        "colab": {
          "base_uri": "https://localhost:8080/"
        },
        "id": "QRBtfccziIUH",
        "outputId": "8657add7-517d-430a-ba32-9271194b1137"
      },
      "source": [
        "# Predict using test data\n",
        "\n",
        "y_pred = model.predict(X_test)\n",
        "find_errors('Test', y_test, y_pred)"
      ],
      "execution_count": null,
      "outputs": [
        {
          "output_type": "stream",
          "text": [
            "Test Errors: \n",
            "----------------------\n",
            "Mean Square Error: $1094203.50\n",
            "Root Mean Square Error: $1046.04\n",
            "Mean Absolute Error: $676.19\n",
            "R Sqaured: 0.65\n"
          ],
          "name": "stdout"
        }
      ]
    },
    {
      "cell_type": "code",
      "metadata": {
        "colab": {
          "base_uri": "https://localhost:8080/"
        },
        "id": "b6k5gWtonVdV",
        "outputId": "6c5010b2-a78a-41f3-c4b5-2ba4b0ff5915"
      },
      "source": [
        "features"
      ],
      "execution_count": null,
      "outputs": [
        {
          "output_type": "execute_result",
          "data": {
            "text/plain": [
              "Index(['bathrooms', 'bedrooms', 'latitude', 'longitude', 'elevator',\n",
              "       'cats_allowed', 'hardwood_floors', 'dogs_allowed', 'doorman',\n",
              "       'dishwasher', 'no_fee', 'laundry_in_building', 'fitness_center',\n",
              "       'pre-war', 'laundry_in_unit', 'roof_deck', 'outdoor_space',\n",
              "       'dining_room', 'high_speed_internet', 'balcony', 'swimming_pool',\n",
              "       'new_construction', 'terrace', 'exclusive', 'loft', 'garden_patio',\n",
              "       'wheelchair_access', 'common_outdoor_space', 'interest_low',\n",
              "       'interest_medium', 'total_rooms', 'num_perks', 'pets_allowed',\n",
              "       'all_pets_allowed'],\n",
              "      dtype='object')"
            ]
          },
          "metadata": {
            "tags": []
          },
          "execution_count": 227
        }
      ]
    },
    {
      "cell_type": "code",
      "metadata": {
        "colab": {
          "base_uri": "https://localhost:8080/"
        },
        "id": "rBnFaJqa9iEB",
        "outputId": "b7060bb6-e379-4e81-e6e8-f23aa0ee6f52"
      },
      "source": [
        "# Trial with selected features\n",
        "more_features = ['bathrooms','bedrooms','latitude','longitude','interest_low',\n",
        "                 'num_perks','all_pets_allowed']\n",
        "X_test = test[more_features]\n",
        "X_train = train[more_features]\n",
        "y_test = test[target]\n",
        "y_train = train[target]\n",
        "model.fit(X_train, y_train)\n",
        "y_pred = model.predict(X_test)\n",
        "find_errors('Test', y_test, y_pred)"
      ],
      "execution_count": null,
      "outputs": [
        {
          "output_type": "stream",
          "text": [
            "Test Errors: \n",
            "----------------------\n",
            "Mean Square Error: $1168831.36\n",
            "Root Mean Square Error: $1081.13\n",
            "Mean Absolute Error: $701.96\n",
            "R Sqaured: 0.62\n"
          ],
          "name": "stdout"
        }
      ]
    },
    {
      "cell_type": "code",
      "metadata": {
        "colab": {
          "base_uri": "https://localhost:8080/"
        },
        "id": "XhdksA-ZKxK9",
        "outputId": "444b3d47-2c55-49f0-deba-875828eb2030"
      },
      "source": [
        "model.intercept_, model.coef_"
      ],
      "execution_count": null,
      "outputs": [
        {
          "output_type": "execute_result",
          "data": {
            "text/plain": [
              "(-1099936.7749047894,\n",
              " array([  1832.4111839 ,    454.96854283,   1380.10871004, -14108.90450905,\n",
              "           644.19044755,     57.77075324,    -52.74503685]))"
            ]
          },
          "metadata": {
            "tags": []
          },
          "execution_count": 229
        }
      ]
    },
    {
      "cell_type": "code",
      "metadata": {
        "id": "kEh_B9Oznyke"
      },
      "source": [
        "\n",
        "def big_bang(features):\n",
        "  \"\"\"\n",
        "  function takes a list of features, iterates through the list,\n",
        "  appends each feature to a new feature list, runs a new prediction\n",
        "  and calculates errors for each additional feature appended to the\n",
        "  new_features list.\n",
        "  \"\"\"\n",
        "  new_features = []\n",
        "  for i in range(len(features)):\n",
        "    new_features.append(features[i])\n",
        "    X_test = test[new_features]\n",
        "    X_train = train[new_features]\n",
        "    y_test = test[target]\n",
        "    y_train = train[target]\n",
        "    model.fit(X_train, y_train)\n",
        "    y_pred = model.predict(X_test)\n",
        "    i += 1\n",
        "    print(f'Test with {i+0} features')\n",
        "    find_errors('Test', y_test, y_pred)\n",
        "    print(\" \")"
      ],
      "execution_count": null,
      "outputs": []
    },
    {
      "cell_type": "code",
      "metadata": {
        "colab": {
          "base_uri": "https://localhost:8080/"
        },
        "id": "MEHWJj82Hpj_",
        "outputId": "ba0d3706-998a-49bd-c9a4-0e3874e35fda"
      },
      "source": [
        "features # features to be iterated through"
      ],
      "execution_count": null,
      "outputs": [
        {
          "output_type": "execute_result",
          "data": {
            "text/plain": [
              "Index(['bathrooms', 'bedrooms', 'latitude', 'longitude', 'elevator',\n",
              "       'cats_allowed', 'hardwood_floors', 'dogs_allowed', 'doorman',\n",
              "       'dishwasher', 'no_fee', 'laundry_in_building', 'fitness_center',\n",
              "       'pre-war', 'laundry_in_unit', 'roof_deck', 'outdoor_space',\n",
              "       'dining_room', 'high_speed_internet', 'balcony', 'swimming_pool',\n",
              "       'new_construction', 'terrace', 'exclusive', 'loft', 'garden_patio',\n",
              "       'wheelchair_access', 'common_outdoor_space', 'interest_low',\n",
              "       'interest_medium', 'total_rooms', 'num_perks', 'pets_allowed',\n",
              "       'all_pets_allowed'],\n",
              "      dtype='object')"
            ]
          },
          "metadata": {
            "tags": []
          },
          "execution_count": 231
        }
      ]
    },
    {
      "cell_type": "code",
      "metadata": {
        "colab": {
          "base_uri": "https://localhost:8080/"
        },
        "id": "doj2Yqi0G6ff",
        "outputId": "d7d754e4-0f81-4db3-be22-83e3ec70aa6c"
      },
      "source": [
        "big_bang(features) # function call to iterate through features"
      ],
      "execution_count": null,
      "outputs": [
        {
          "output_type": "stream",
          "text": [
            "Test with 1 features\n",
            "Test Errors: \n",
            "----------------------\n",
            "Mean Square Error: $1615207.84\n",
            "Root Mean Square Error: $1270.91\n",
            "Mean Absolute Error: $890.46\n",
            "R Sqaured: 0.48\n",
            " \n",
            "Test with 2 features\n",
            "Test Errors: \n",
            "----------------------\n",
            "Mean Square Error: $1487715.31\n",
            "Root Mean Square Error: $1219.72\n",
            "Mean Absolute Error: $825.90\n",
            "R Sqaured: 0.52\n",
            " \n",
            "Test with 3 features\n",
            "Test Errors: \n",
            "----------------------\n",
            "Mean Square Error: $1483100.39\n",
            "Root Mean Square Error: $1217.83\n",
            "Mean Absolute Error: $820.07\n",
            "R Sqaured: 0.52\n",
            " \n",
            "Test with 4 features\n",
            "Test Errors: \n",
            "----------------------\n",
            "Mean Square Error: $1279602.32\n",
            "Root Mean Square Error: $1131.20\n",
            "Mean Absolute Error: $744.98\n",
            "R Sqaured: 0.59\n",
            " \n",
            "Test with 5 features\n",
            "Test Errors: \n",
            "----------------------\n",
            "Mean Square Error: $1254481.13\n",
            "Root Mean Square Error: $1120.04\n",
            "Mean Absolute Error: $730.03\n",
            "R Sqaured: 0.60\n",
            " \n",
            "Test with 6 features\n",
            "Test Errors: \n",
            "----------------------\n",
            "Mean Square Error: $1251630.73\n",
            "Root Mean Square Error: $1118.76\n",
            "Mean Absolute Error: $728.56\n",
            "R Sqaured: 0.60\n",
            " \n",
            "Test with 7 features\n",
            "Test Errors: \n",
            "----------------------\n",
            "Mean Square Error: $1248137.85\n",
            "Root Mean Square Error: $1117.20\n",
            "Mean Absolute Error: $727.00\n",
            "R Sqaured: 0.60\n",
            " \n",
            "Test with 8 features\n",
            "Test Errors: \n",
            "----------------------\n",
            "Mean Square Error: $1247398.74\n",
            "Root Mean Square Error: $1116.87\n",
            "Mean Absolute Error: $726.81\n",
            "R Sqaured: 0.60\n",
            " \n",
            "Test with 9 features\n",
            "Test Errors: \n",
            "----------------------\n",
            "Mean Square Error: $1209784.51\n",
            "Root Mean Square Error: $1099.90\n",
            "Mean Absolute Error: $711.78\n",
            "R Sqaured: 0.61\n",
            " \n",
            "Test with 10 features\n",
            "Test Errors: \n",
            "----------------------\n",
            "Mean Square Error: $1207452.94\n",
            "Root Mean Square Error: $1098.84\n",
            "Mean Absolute Error: $709.57\n",
            "R Sqaured: 0.61\n",
            " \n",
            "Test with 11 features\n",
            "Test Errors: \n",
            "----------------------\n",
            "Mean Square Error: $1202599.16\n",
            "Root Mean Square Error: $1096.63\n",
            "Mean Absolute Error: $709.77\n",
            "R Sqaured: 0.61\n",
            " \n",
            "Test with 12 features\n",
            "Test Errors: \n",
            "----------------------\n",
            "Mean Square Error: $1197574.60\n",
            "Root Mean Square Error: $1094.34\n",
            "Mean Absolute Error: $708.51\n",
            "R Sqaured: 0.61\n",
            " \n",
            "Test with 13 features\n",
            "Test Errors: \n",
            "----------------------\n",
            "Mean Square Error: $1196800.28\n",
            "Root Mean Square Error: $1093.98\n",
            "Mean Absolute Error: $708.25\n",
            "R Sqaured: 0.61\n",
            " \n",
            "Test with 14 features\n",
            "Test Errors: \n",
            "----------------------\n",
            "Mean Square Error: $1196104.58\n",
            "Root Mean Square Error: $1093.67\n",
            "Mean Absolute Error: $708.46\n",
            "R Sqaured: 0.62\n",
            " \n",
            "Test with 15 features\n",
            "Test Errors: \n",
            "----------------------\n",
            "Mean Square Error: $1182407.45\n",
            "Root Mean Square Error: $1087.39\n",
            "Mean Absolute Error: $705.76\n",
            "R Sqaured: 0.62\n",
            " \n",
            "Test with 16 features\n",
            "Test Errors: \n",
            "----------------------\n",
            "Mean Square Error: $1177134.72\n",
            "Root Mean Square Error: $1084.96\n",
            "Mean Absolute Error: $703.41\n",
            "R Sqaured: 0.62\n",
            " \n",
            "Test with 17 features\n",
            "Test Errors: \n",
            "----------------------\n",
            "Mean Square Error: $1177544.08\n",
            "Root Mean Square Error: $1085.15\n",
            "Mean Absolute Error: $703.74\n",
            "R Sqaured: 0.62\n",
            " \n",
            "Test with 18 features\n",
            "Test Errors: \n",
            "----------------------\n",
            "Mean Square Error: $1171978.99\n",
            "Root Mean Square Error: $1082.58\n",
            "Mean Absolute Error: $704.32\n",
            "R Sqaured: 0.62\n",
            " \n",
            "Test with 19 features\n",
            "Test Errors: \n",
            "----------------------\n",
            "Mean Square Error: $1166627.60\n",
            "Root Mean Square Error: $1080.11\n",
            "Mean Absolute Error: $701.18\n",
            "R Sqaured: 0.62\n",
            " \n",
            "Test with 20 features\n",
            "Test Errors: \n",
            "----------------------\n",
            "Mean Square Error: $1166557.60\n",
            "Root Mean Square Error: $1080.07\n",
            "Mean Absolute Error: $701.15\n",
            "R Sqaured: 0.62\n",
            " \n",
            "Test with 21 features\n",
            "Test Errors: \n",
            "----------------------\n",
            "Mean Square Error: $1166236.98\n",
            "Root Mean Square Error: $1079.92\n",
            "Mean Absolute Error: $700.98\n",
            "R Sqaured: 0.62\n",
            " \n",
            "Test with 22 features\n",
            "Test Errors: \n",
            "----------------------\n",
            "Mean Square Error: $1165414.54\n",
            "Root Mean Square Error: $1079.54\n",
            "Mean Absolute Error: $700.64\n",
            "R Sqaured: 0.63\n",
            " \n",
            "Test with 23 features\n",
            "Test Errors: \n",
            "----------------------\n",
            "Mean Square Error: $1164834.53\n",
            "Root Mean Square Error: $1079.28\n",
            "Mean Absolute Error: $700.69\n",
            "R Sqaured: 0.63\n",
            " \n",
            "Test with 24 features\n",
            "Test Errors: \n",
            "----------------------\n",
            "Mean Square Error: $1164871.47\n",
            "Root Mean Square Error: $1079.29\n",
            "Mean Absolute Error: $700.82\n",
            "R Sqaured: 0.63\n",
            " \n",
            "Test with 25 features\n",
            "Test Errors: \n",
            "----------------------\n",
            "Mean Square Error: $1163588.01\n",
            "Root Mean Square Error: $1078.70\n",
            "Mean Absolute Error: $701.15\n",
            "R Sqaured: 0.63\n",
            " \n",
            "Test with 26 features\n",
            "Test Errors: \n",
            "----------------------\n",
            "Mean Square Error: $1164249.36\n",
            "Root Mean Square Error: $1079.00\n",
            "Mean Absolute Error: $701.29\n",
            "R Sqaured: 0.63\n",
            " \n",
            "Test with 27 features\n",
            "Test Errors: \n",
            "----------------------\n",
            "Mean Square Error: $1163272.64\n",
            "Root Mean Square Error: $1078.55\n",
            "Mean Absolute Error: $701.27\n",
            "R Sqaured: 0.63\n",
            " \n",
            "Test with 28 features\n",
            "Test Errors: \n",
            "----------------------\n",
            "Mean Square Error: $1163402.22\n",
            "Root Mean Square Error: $1078.61\n",
            "Mean Absolute Error: $701.30\n",
            "R Sqaured: 0.63\n",
            " \n",
            "Test with 29 features\n",
            "Test Errors: \n",
            "----------------------\n",
            "Mean Square Error: $1096759.65\n",
            "Root Mean Square Error: $1047.26\n",
            "Mean Absolute Error: $677.28\n",
            "R Sqaured: 0.65\n",
            " \n",
            "Test with 30 features\n",
            "Test Errors: \n",
            "----------------------\n",
            "Mean Square Error: $1093940.51\n",
            "Root Mean Square Error: $1045.92\n",
            "Mean Absolute Error: $676.11\n",
            "R Sqaured: 0.65\n",
            " \n",
            "Test with 31 features\n",
            "Test Errors: \n",
            "----------------------\n",
            "Mean Square Error: $1094022.66\n",
            "Root Mean Square Error: $1045.96\n",
            "Mean Absolute Error: $676.07\n",
            "R Sqaured: 0.65\n",
            " \n",
            "Test with 32 features\n",
            "Test Errors: \n",
            "----------------------\n",
            "Mean Square Error: $1093905.25\n",
            "Root Mean Square Error: $1045.90\n",
            "Mean Absolute Error: $676.15\n",
            "R Sqaured: 0.65\n",
            " \n",
            "Test with 33 features\n",
            "Test Errors: \n",
            "----------------------\n",
            "Mean Square Error: $1094231.56\n",
            "Root Mean Square Error: $1046.06\n",
            "Mean Absolute Error: $676.15\n",
            "R Sqaured: 0.65\n",
            " \n",
            "Test with 34 features\n",
            "Test Errors: \n",
            "----------------------\n",
            "Mean Square Error: $1094203.50\n",
            "Root Mean Square Error: $1046.04\n",
            "Mean Absolute Error: $676.19\n",
            "R Sqaured: 0.65\n",
            " \n"
          ],
          "name": "stdout"
        }
      ]
    },
    {
      "cell_type": "markdown",
      "metadata": {
        "id": "_ofn0tr7eqBv"
      },
      "source": [
        "## Best test MAE is $676.07 with an R-Sqaured of 0.65 \n",
        "## Used 31 features from the dataframe."
      ]
    },
    {
      "cell_type": "code",
      "metadata": {
        "colab": {
          "base_uri": "https://localhost:8080/"
        },
        "id": "_2zNekb5gxId",
        "outputId": "2f69bff9-a3f3-4e85-cbc0-5e6d1efcf6d6"
      },
      "source": [
        "# Features producing lowest MAE - Training values\n",
        "final_features = ['bathrooms', 'bedrooms', 'latitude', 'longitude', 'elevator',\n",
        "       'cats_allowed', 'hardwood_floors', 'dogs_allowed', 'doorman',\n",
        "       'dishwasher', 'no_fee', 'laundry_in_building', 'fitness_center',\n",
        "       'pre-war', 'laundry_in_unit', 'roof_deck', 'outdoor_space',\n",
        "       'dining_room', 'high_speed_internet', 'balcony', 'swimming_pool',\n",
        "       'new_construction', 'terrace', 'exclusive', 'loft', 'garden_patio',\n",
        "       'wheelchair_access', 'common_outdoor_space', 'interest_low',\n",
        "       'interest_medium', 'total_rooms']\n",
        "\n",
        "X_train = train[final_features]\n",
        "X_test = test[final_features]\n",
        "\n",
        "model.fit(X_train, y_train)\n",
        "y_pred = model.predict(X_train)\n",
        "\n",
        "find_errors('Train', y_train, y_pred)"
      ],
      "execution_count": null,
      "outputs": [
        {
          "output_type": "stream",
          "text": [
            "Train Errors: \n",
            "----------------------\n",
            "Mean Square Error: $1125427.16\n",
            "Root Mean Square Error: $1060.86\n",
            "Mean Absolute Error: $673.08\n",
            "R Sqaured: 0.64\n"
          ],
          "name": "stdout"
        }
      ]
    },
    {
      "cell_type": "code",
      "metadata": {
        "colab": {
          "base_uri": "https://localhost:8080/"
        },
        "id": "RtUmgK4hiDcS",
        "outputId": "355d09f0-ea61-4ceb-a23b-2dcf84dee2ab"
      },
      "source": [
        "# Testing values\n",
        "y_pred = model.predict(X_test)\n",
        "find_errors('Test', y_test, y_pred)"
      ],
      "execution_count": null,
      "outputs": [
        {
          "output_type": "stream",
          "text": [
            "Test Errors: \n",
            "----------------------\n",
            "Mean Square Error: $1094022.66\n",
            "Root Mean Square Error: $1045.96\n",
            "Mean Absolute Error: $676.07\n",
            "R Sqaured: 0.65\n"
          ],
          "name": "stdout"
        }
      ]
    }
  ]
}